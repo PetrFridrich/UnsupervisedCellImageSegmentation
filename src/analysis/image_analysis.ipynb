{
 "cells": [
  {
   "cell_type": "markdown",
   "metadata": {},
   "source": [
    "# Image analysis\n",
    "\n",
    "Some basic information about image."
   ]
  },
  {
   "cell_type": "markdown",
   "metadata": {},
   "source": [
    "## Imports"
   ]
  },
  {
   "cell_type": "code",
   "execution_count": null,
   "metadata": {},
   "outputs": [],
   "source": [
    "import os\n",
    "import cv2\n",
    "import numpy as np\n",
    "import seaborn as sns\n",
    "import matplotlib.pyplot as plt\n",
    "\n",
    "from pathlib import Path"
   ]
  },
  {
   "cell_type": "markdown",
   "metadata": {},
   "source": [
    "## Loading image"
   ]
  },
  {
   "cell_type": "code",
   "execution_count": null,
   "metadata": {},
   "outputs": [],
   "source": [
    "# Define the image file name and full path to the image\n",
    "image_name = f'12a.jpg'\n",
    "image_path = Path(f'../../data/images/{image_name}')\n",
    "\n",
    "# Read the image from the specified path\n",
    "img = cv2.imread(image_path)\n",
    "\n",
    "# Convert the image from BGR to RGB color space\n",
    "img = cv2.cvtColor(img, cv2.COLOR_BGR2RGB)"
   ]
  },
  {
   "cell_type": "markdown",
   "metadata": {},
   "source": [
    "## Small analysis"
   ]
  },
  {
   "cell_type": "markdown",
   "metadata": {},
   "source": [
    "### Showing image"
   ]
  },
  {
   "cell_type": "code",
   "execution_count": null,
   "metadata": {},
   "outputs": [],
   "source": [
    "plt.imshow(img)     # Displays the image\n",
    "plt.axis(False)     # Hides both the X and Y axes (including ticks and labels).\n",
    "plt.show()          # Show "
   ]
  },
  {
   "cell_type": "markdown",
   "metadata": {},
   "source": [
    "### Image shape"
   ]
  },
  {
   "cell_type": "code",
   "execution_count": null,
   "metadata": {},
   "outputs": [],
   "source": [
    "# Print the image width, which corresponds to the second dimension of the image shape\n",
    "print(f'Image width: {img.shape[1]}')\n",
    "\n",
    "# Print the image height, which corresponds to the first dimension of the image shape\n",
    "print(f'Image height: {img.shape[0]}')\n"
   ]
  },
  {
   "cell_type": "markdown",
   "metadata": {},
   "source": [
    "### Image histograms"
   ]
  },
  {
   "cell_type": "code",
   "execution_count": null,
   "metadata": {},
   "outputs": [],
   "source": [
    "# Split the image into its channels (B, G, R)\n",
    "b, g, r = cv2.split(img)\n",
    "\n",
    "# Compute histograms for each channel\n",
    "hist_b = cv2.calcHist([b], [0], None, [256], [0, 256])\n",
    "hist_g = cv2.calcHist([g], [0], None, [256], [0, 256])\n",
    "hist_r = cv2.calcHist([r], [0], None, [256], [0, 256])\n",
    "\n",
    "# Compute the average histogram (RGB histogram)\n",
    "hist_avg = (hist_b + hist_g + hist_r) / 3\n",
    "\n",
    "# Plot histograms\n",
    "plt.figure(figsize=(12,2))\n",
    "plt.plot(hist_b, color='blue', label='Blue Channel')\n",
    "plt.plot(hist_g, color='green', label='Green Channel')\n",
    "plt.plot(hist_r, color='red', label='Red Channel')\n",
    "plt.plot(hist_avg, color='black', linestyle='--', label='Average (RGB)')\n",
    "\n",
    "# Add titles and legends\n",
    "plt.title('Channel Histograms')\n",
    "plt.xlabel('Pixel Value')\n",
    "plt.ylabel('Frequency')\n",
    "plt.legend()\n",
    "\n",
    "# Customize the Y-axis\n",
    "plt.gca().yaxis.set_ticks([])\n",
    "plt.gca().yaxis.label.set_visible(False)\n",
    "\n",
    "plt.show()"
   ]
  },
  {
   "cell_type": "markdown",
   "metadata": {},
   "source": [
    "## Image similarity in dataset"
   ]
  },
  {
   "cell_type": "markdown",
   "metadata": {},
   "source": [
    "### Loading"
   ]
  },
  {
   "cell_type": "code",
   "execution_count": null,
   "metadata": {},
   "outputs": [],
   "source": [
    "# Labeled images\n",
    "data_path = Path('../../data/images/')\n",
    "image_names_l = os.listdir(data_path)\n",
    "\n",
    "labeled_images = list()\n",
    "\n",
    "for img_name in image_names_l:\n",
    "    labeled_images.append(cv2.imread(data_path / Path(img_name)))"
   ]
  },
  {
   "cell_type": "code",
   "execution_count": null,
   "metadata": {},
   "outputs": [],
   "source": [
    "# Other images\n",
    "data_path = Path('../../data/other_images/')\n",
    "image_names_o = os.listdir(data_path)\n",
    "\n",
    "other_images = list()\n",
    "\n",
    "for img_name in image_names_o:\n",
    "    other_images.append(cv2.imread(data_path / Path(img_name)))"
   ]
  },
  {
   "cell_type": "code",
   "execution_count": null,
   "metadata": {},
   "outputs": [],
   "source": [
    "# Merging labeled and other images\n",
    "images = labeled_images + other_images\n",
    "image_names = image_names_l + image_names_o"
   ]
  },
  {
   "cell_type": "markdown",
   "metadata": {},
   "source": [
    "### Computing similarity matrix based on histograms"
   ]
  },
  {
   "cell_type": "code",
   "execution_count": null,
   "metadata": {},
   "outputs": [],
   "source": [
    "def calc_avg_hist(img):\n",
    "    \"\"\"\n",
    "    Calculate the average histogram for an image across all three color channels (Red, Green, Blue).\n",
    "\n",
    "    The function computes the individual histograms for each of the three channels (Red, Green, Blue) of \n",
    "    the input image and then calculates their average histogram. The result is a single histogram that \n",
    "    represents the combined pixel intensity distribution across all channels.\n",
    "    \n",
    "    Parameters:\n",
    "    img (numpy.ndarray): Input image.\n",
    "    \n",
    "    Returns:\n",
    "    numpy.ndarray: A 1D array representing the average histogram across all three channels.    \n",
    "    \"\"\"\n",
    "\n",
    "    # Compute histograms for each channel\n",
    "    hist_r = cv2.calcHist([img], [0], None, [256], [0, 256])\n",
    "    hist_g = cv2.calcHist([img], [1], None, [256], [0, 256])\n",
    "    hist_b = cv2.calcHist([img], [2], None, [256], [0, 256])\n",
    "\n",
    "    # Compute the average histogram (RGB histogram)\n",
    "    hist_avg = (hist_b + hist_g + hist_r) / 3\n",
    "\n",
    "    return hist_avg"
   ]
  },
  {
   "cell_type": "code",
   "execution_count": null,
   "metadata": {},
   "outputs": [],
   "source": [
    "# Initialize a similarity matrix with zeros\n",
    "similarity_matrix = np.zeros((len(images), len(images)))\n",
    "\n",
    "# Loop over each pair of images in the 'images' list\n",
    "for i, img1 in enumerate(images):\n",
    "    for j, img2 in enumerate(images):\n",
    "        \n",
    "        # Calculate the histogram for the first image (img1)\n",
    "        hist1 = calc_avg_hist(img1)\n",
    "        \n",
    "        # Calculate the histogram for the second image (img2)\n",
    "        hist2 = calc_avg_hist(img2)\n",
    "        \n",
    "        # Compare the two histograms using the correlation method\n",
    "        similarity_matrix[i,j] = cv2.compareHist(hist1, hist2, cv2.HISTCMP_CORREL)\n"
   ]
  },
  {
   "cell_type": "markdown",
   "metadata": {},
   "source": [
    "### Visualization of similarity matrix"
   ]
  },
  {
   "cell_type": "code",
   "execution_count": null,
   "metadata": {},
   "outputs": [],
   "source": [
    "# Create a new figure for plotting\n",
    "plt.figure(figsize=(16,8))\n",
    "\n",
    "# Create a heatmap of the similarity matrix using seaborn's heatmap function\n",
    "sns.heatmap(\n",
    "    similarity_matrix,          # The data to visualize, which is the similarity matrix\n",
    "    annot=True,                 # Display the numeric values inside the heatmap cells\n",
    "    cbar=True,                  # Display the color bar on the side to indicate the scale of values\n",
    "    cmap='coolwarm',            # Use the 'coolwarm' colormap, which is suitable for displaying data\n",
    "    fmt='.2f',                  # Format the annotation values to 2 decimal places\n",
    "    xticklabels=image_names,    # Set the x-axis tick labels as the image names\n",
    "    yticklabels=image_names,    # Set the y-axis tick labels as the image names\n",
    "    vmin=-1,                    # Set the minimum value of the color scale (for the heatmap) to -1\n",
    "    vmax=1,                     # Set the maximum value of the color scale (for the heatmap) to 1\n",
    ")\n",
    "\n",
    "# Display the heatmap plot\n",
    "plt.show()"
   ]
  }
 ],
 "metadata": {
  "kernelspec": {
   "display_name": ".venv",
   "language": "python",
   "name": "python3"
  },
  "language_info": {
   "codemirror_mode": {
    "name": "ipython",
    "version": 3
   },
   "file_extension": ".py",
   "mimetype": "text/x-python",
   "name": "python",
   "nbconvert_exporter": "python",
   "pygments_lexer": "ipython3",
   "version": "3.12.4"
  }
 },
 "nbformat": 4,
 "nbformat_minor": 2
}
